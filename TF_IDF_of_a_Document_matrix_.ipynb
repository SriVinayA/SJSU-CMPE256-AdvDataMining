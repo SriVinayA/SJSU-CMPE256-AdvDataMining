{
  "nbformat": 4,
  "nbformat_minor": 0,
  "metadata": {
    "colab": {
      "provenance": [],
      "authorship_tag": "ABX9TyPs7NUeLtT+EX05mxG5EAhq",
      "include_colab_link": true
    },
    "kernelspec": {
      "name": "python3",
      "display_name": "Python 3"
    },
    "language_info": {
      "name": "python"
    }
  },
  "cells": [
    {
      "cell_type": "markdown",
      "metadata": {
        "id": "view-in-github",
        "colab_type": "text"
      },
      "source": [
        "<a href=\"https://colab.research.google.com/github/SriVinayA/SJSU-CMPE256-AdvDataMining/blob/main/TF_IDF_of_a_Document_matrix_.ipynb\" target=\"_parent\"><img src=\"https://colab.research.google.com/assets/colab-badge.svg\" alt=\"Open In Colab\"/></a>"
      ]
    },
    {
      "cell_type": "markdown",
      "source": [
        "The Term Frequency-Inverse Document Frequency (TF-IDF) is a numerical statistic that is intended to reflect how important a word is to a document in a collection or corpus. The TF-IDF value increases proportionally to the number of times a word appears in the document and is offset by the number of documents in the corpus that contain the word, which helps to adjust for the fact that some words appear more frequently in general.\n",
        "\n",
        "Here's how to calculate TF-IDF:"
      ],
      "metadata": {
        "id": "9LMTB03aI7jk"
      }
    },
    {
      "cell_type": "markdown",
      "source": [
        "Term Frequency (TF): This measures how frequently a term occurs in a document. Since documents may vary in length, it is often the term count in the document divided by the total number of terms in the document:\n",
        "\n",
        "TF(t,d)= (Number of times term t appears in a document d)/(Total number of terms in the document d)"
      ],
      "metadata": {
        "id": "nyea6kgsJF5a"
      }
    },
    {
      "cell_type": "markdown",
      "source": [
        "Inverse Document Frequency (IDF): This measures how important a term is. While computing TF, all terms are considered equally important. However, certain terms, such as \"is\", \"of\", and \"that\", may appear a lot of times but have little importance. Thus we need to weigh down the frequent terms while scaling up the rare ones, by computing the following:\n",
        "\n",
        "IDF(t,D)=log(\n",
        "  (Total number of documents D)/(Number of documents with term t in it)\n",
        "  )"
      ],
      "metadata": {
        "id": "vkzdN1p-Jpxu"
      }
    },
    {
      "cell_type": "markdown",
      "source": [
        "TF-IDF: This is simply the TF multiplied by IDF:\n",
        "\n",
        "TFIDF(*t,d,D*)=TF(*t,d*)×IDF(*t,D*)"
      ],
      "metadata": {
        "id": "3pPjYOI3KBXD"
      }
    },
    {
      "cell_type": "markdown",
      "source": [
        "Let's calculate the TF-IDF for the given document-term pairs:\n",
        "- TF(*d2,t3*)\n",
        "- TF(*d4,t6*)\n",
        "- TF(*d5,t7*)"
      ],
      "metadata": {
        "id": "v0A3v6kqKE5n"
      }
    },
    {
      "cell_type": "markdown",
      "source": [
        "First, I will calculate the TF for each term in its respective document. To do that, I need to count the total number of terms in each document, *d2, d4*, and *d5*, and then calculate the TF for the terms *t3, t6*, and *t7* respectively."
      ],
      "metadata": {
        "id": "xLdOu8CdKVwf"
      }
    },
    {
      "cell_type": "markdown",
      "source": [
        "Let's start by calculating the TF for these terms."
      ],
      "metadata": {
        "id": "KpM7STHPL3jv"
      }
    },
    {
      "cell_type": "code",
      "execution_count": 2,
      "metadata": {
        "colab": {
          "base_uri": "https://localhost:8080/"
        },
        "id": "lscl8EOEI6vD",
        "outputId": "5f70edd9-4283-4e8f-b1b2-def8fed10e76"
      },
      "outputs": [
        {
          "output_type": "execute_result",
          "data": {
            "text/plain": [
              "(0.08860759493670886, 0.2631578947368421, 0.35294117647058826)"
            ]
          },
          "metadata": {},
          "execution_count": 2
        }
      ],
      "source": [
        "import pandas as pd\n",
        "import numpy as np\n",
        "\n",
        "# The term frequency data from the image as a dictionary\n",
        "data = {\n",
        "    't1': [0, 5, 15, 22, 0],\n",
        "    't2': [4, 19, 0, 3, 7],\n",
        "    't3': [10, 7, 0, 12, 0],\n",
        "    't4': [8, 16, 4, 0, 9],\n",
        "    't5': [0, 0, 9, 5, 2],\n",
        "    't6': [5, 0, 0, 15, 4],\n",
        "    't7': [0, 32, 17, 0, 12]\n",
        "}\n",
        "\n",
        "# Create a DataFrame from the dictionary\n",
        "df = pd.DataFrame(data, index=['d1', 'd2', 'd3', 'd4', 'd5'])\n",
        "\n",
        "# Calculate the total number of terms in each document\n",
        "df['total_terms'] = df.sum(axis=1)\n",
        "\n",
        "# Calculate the TF for the specified document-term pairs\n",
        "tf_d2_t3 = df.at['d2', 't3'] / df.at['d2', 'total_terms']\n",
        "tf_d4_t6 = df.at['d4', 't6'] / df.at['d4', 'total_terms']\n",
        "tf_d5_t7 = df.at['d5', 't7'] / df.at['d5', 'total_terms']\n",
        "\n",
        "tf_d2_t3, tf_d4_t6, tf_d5_t7"
      ]
    },
    {
      "cell_type": "markdown",
      "source": [
        "The Term Frequency (TF) for the specified document-term pairs is as follows:\n",
        "\n",
        "- TF(*d2,t3*): Approximately 0.0886\n",
        "- TF(*d4,t6*): Approximately 0.2632\n",
        "- TF(*d5,t7*): Approximately 0.3529\n"
      ],
      "metadata": {
        "id": "v4nkx7idLDln"
      }
    },
    {
      "cell_type": "markdown",
      "source": [
        "Next, we need to calculate the Inverse Document Frequency (IDF) for these terms. To do this, we'll need to determine the number of documents that contain the terms *t3, t6,* and *t7*. Then we'll use the formula to calculate IDF.\n",
        "\n",
        "Let's calculate the IDF for the terms."
      ],
      "metadata": {
        "id": "dvMmrSGlLS6Q"
      }
    },
    {
      "cell_type": "code",
      "source": [
        "# Calculate the number of documents (D)\n",
        "total_documents = df.shape[0]  # Total number of documents\n",
        "\n",
        "# Calculate the number of documents containing each term\n",
        "num_docs_with_term = (df.drop(columns='total_terms') > 0).sum()\n",
        "\n",
        "# Calculate the IDF for the specified terms\n",
        "idfs = {}\n",
        "for term in ['t3', 't6', 't7']:\n",
        "    num_docs_with_term_t = num_docs_with_term[term]\n",
        "    idfs[term] = np.log(total_documents / num_docs_with_term_t) if num_docs_with_term_t else 0\n",
        "\n",
        "idfs"
      ],
      "metadata": {
        "colab": {
          "base_uri": "https://localhost:8080/"
        },
        "id": "ac8f2zTuLeG-",
        "outputId": "b8037a4a-fb49-495c-a0e1-528a2b9f1d22"
      },
      "execution_count": 4,
      "outputs": [
        {
          "output_type": "execute_result",
          "data": {
            "text/plain": [
              "{'t3': 0.5108256237659907, 't6': 0.5108256237659907, 't7': 0.5108256237659907}"
            ]
          },
          "metadata": {},
          "execution_count": 4
        }
      ]
    },
    {
      "cell_type": "markdown",
      "source": [
        "The Inverse Document Frequency (IDF) for each term is as follows (all values are approximately the same because each term appears in just one document):\n",
        "\n",
        "- IDF(*t3*): Approximately 0.5108\n",
        "- IDF(*t6*): Approximately 0.5108\n",
        "- IDF(*t7*): Approximately 0.5108"
      ],
      "metadata": {
        "id": "4GjKV6L9MC3v"
      }
    },
    {
      "cell_type": "markdown",
      "source": [
        "With the TF and IDF values calculated, we can now compute the TF-IDF for each of the specified document-term pairs by multiplying the TF by the IDF for each term.\n",
        "\n",
        "Let's calculate the TF-IDF values."
      ],
      "metadata": {
        "id": "6d7wPbM6MSwk"
      }
    },
    {
      "cell_type": "code",
      "source": [
        "# Calculate the TF-IDF for the specified document-term pairs\n",
        "tfidf_d2_t3 = tf_d2_t3 * idfs['t3']\n",
        "tfidf_d4_t6 = tf_d4_t6 * idfs['t6']\n",
        "tfidf_d5_t7 = tf_d5_t7 * idfs['t7']\n",
        "\n",
        "tfidf_d2_t3, tfidf_d4_t6, tfidf_d5_t7"
      ],
      "metadata": {
        "colab": {
          "base_uri": "https://localhost:8080/"
        },
        "id": "oxuqZjsIL9hG",
        "outputId": "6a763695-9d09-4265-bd74-c7c6cbd73aeb"
      },
      "execution_count": 5,
      "outputs": [
        {
          "output_type": "execute_result",
          "data": {
            "text/plain": [
              "(0.04526302995394855, 0.1344277957278923, 0.18029139662329086)"
            ]
          },
          "metadata": {},
          "execution_count": 5
        }
      ]
    },
    {
      "cell_type": "markdown",
      "source": [
        "The TF-IDF values for the specified document-term pairs are:\n",
        "\n",
        "- TFIDF(*d2,t3*): Approximately 0.0453\n",
        "- TFIDF(*d4,t6*): Approximately 0.1344\n",
        "- TFIDF(*d5,t7*): Approximately 0.1803\n",
        "\n",
        "These values reflect how important each term is to the document relative to the entire corpus. The higher the TF-IDF, the more important the term is within that specific document."
      ],
      "metadata": {
        "id": "CNEN8olSMYVn"
      }
    }
  ]
}