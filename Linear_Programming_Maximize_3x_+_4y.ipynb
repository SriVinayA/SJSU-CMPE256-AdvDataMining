{
  "nbformat": 4,
  "nbformat_minor": 0,
  "metadata": {
    "colab": {
      "provenance": [],
      "authorship_tag": "ABX9TyNF0uu88s95mST+EKVEN5EC",
      "include_colab_link": true
    },
    "kernelspec": {
      "name": "python3",
      "display_name": "Python 3"
    },
    "language_info": {
      "name": "python"
    }
  },
  "cells": [
    {
      "cell_type": "markdown",
      "metadata": {
        "id": "view-in-github",
        "colab_type": "text"
      },
      "source": [
        "<a href=\"https://colab.research.google.com/github/SriVinayA/SJSU-CMPE256-AdvDataMining/blob/main/Linear_Programming_Maximize_3x_%2B_4y.ipynb\" target=\"_parent\"><img src=\"https://colab.research.google.com/assets/colab-badge.svg\" alt=\"Open In Colab\"/></a>"
      ]
    },
    {
      "cell_type": "markdown",
      "source": [
        "## Step 1: Importing Required Libraries\n",
        "\n",
        "First, we need to import the necessary library for linear programming."
      ],
      "metadata": {
        "id": "laIiASVa1JqF"
      }
    },
    {
      "cell_type": "code",
      "execution_count": 1,
      "metadata": {
        "id": "C6tRHYdEzjCL"
      },
      "outputs": [],
      "source": [
        "from scipy.optimize import linprog"
      ]
    },
    {
      "cell_type": "markdown",
      "source": [
        "## Step 2: Defining the Coefficients of the Objective Function\n",
        "\n",
        "Objective: Maximize `3x + 4y`\n",
        "\n",
        "Since `linprog` minimizes by default, we convert this to minimize `-3x - 4y`."
      ],
      "metadata": {
        "id": "dlUINmXDDyIc"
      }
    },
    {
      "cell_type": "code",
      "source": [
        "c = [-3, -4]  # Coefficients for the objective function\n",
        "c"
      ],
      "metadata": {
        "colab": {
          "base_uri": "https://localhost:8080/"
        },
        "id": "crz-Wgz_EM90",
        "outputId": "a078a96e-5ebb-462a-e02b-39922c7606ae"
      },
      "execution_count": 10,
      "outputs": [
        {
          "output_type": "execute_result",
          "data": {
            "text/plain": [
              "[-3, -4]"
            ]
          },
          "metadata": {},
          "execution_count": 10
        }
      ]
    },
    {
      "cell_type": "markdown",
      "source": [
        "## Step 3: Defining the Constraints\n",
        "\n",
        "Constraints:\n",
        "\n",
        "- `x + 2y ≤ 14`\n",
        "- `3x - y ≥ 0`\n",
        "- `x - y ≤ 2`\n",
        "\n",
        "These are converted to a format suitable for `linprog`."
      ],
      "metadata": {
        "id": "CJZ9K1jiDw3T"
      }
    },
    {
      "cell_type": "code",
      "source": [
        "A = [[1, 2], [-3, 1], [1, -1]]  # Coefficients for the inequality constraints\n",
        "b = [14, 0, 2]                  # Constants for the inequality constraints\n",
        "\n",
        "A, b"
      ],
      "metadata": {
        "colab": {
          "base_uri": "https://localhost:8080/"
        },
        "id": "AVFYQ8HyEQ6B",
        "outputId": "db2ea001-c077-4bff-8489-fcb353b5d8c7"
      },
      "execution_count": 11,
      "outputs": [
        {
          "output_type": "execute_result",
          "data": {
            "text/plain": [
              "([[1, 2], [-3, 1], [1, -1]], [14, 0, 2])"
            ]
          },
          "metadata": {},
          "execution_count": 11
        }
      ]
    },
    {
      "cell_type": "markdown",
      "source": [
        "## Step 4: Defining the Bounds for the Variables\n",
        "\n",
        "Both `x` and `y` are non-negative."
      ],
      "metadata": {
        "id": "FClRw_prEACQ"
      }
    },
    {
      "cell_type": "code",
      "source": [
        "x_bounds = (0, None)  # x >= 0\n",
        "y_bounds = (0, None)  # y >= 0\n",
        "bounds = [x_bounds, y_bounds]\n",
        "\n",
        "bounds"
      ],
      "metadata": {
        "colab": {
          "base_uri": "https://localhost:8080/"
        },
        "id": "ByYbglYwEXUW",
        "outputId": "3aa651b8-dff0-42e3-d9d6-001452ec6690"
      },
      "execution_count": 15,
      "outputs": [
        {
          "output_type": "execute_result",
          "data": {
            "text/plain": [
              "[(0, None), (0, None)]"
            ]
          },
          "metadata": {},
          "execution_count": 15
        }
      ]
    },
    {
      "cell_type": "markdown",
      "source": [
        "## Step 5: Solving the Problem\n",
        "\n",
        "Using `linprog` to solve the problem."
      ],
      "metadata": {
        "id": "Qw1wApKMECTW"
      }
    },
    {
      "cell_type": "code",
      "source": [
        "result = linprog(c, A_ub=A, b_ub=b, bounds=bounds, method='highs')\n",
        "\n",
        "result"
      ],
      "metadata": {
        "colab": {
          "base_uri": "https://localhost:8080/"
        },
        "id": "DXjxhDotEchM",
        "outputId": "ea81fb5a-9a40-4ef2-8ad8-f636fc9ad0c7"
      },
      "execution_count": 13,
      "outputs": [
        {
          "output_type": "execute_result",
          "data": {
            "text/plain": [
              "        message: Optimization terminated successfully. (HiGHS Status 7: Optimal)\n",
              "        success: True\n",
              "         status: 0\n",
              "            fun: -34.0\n",
              "              x: [ 6.000e+00  4.000e+00]\n",
              "            nit: 2\n",
              "          lower:  residual: [ 6.000e+00  4.000e+00]\n",
              "                 marginals: [ 0.000e+00  0.000e+00]\n",
              "          upper:  residual: [       inf        inf]\n",
              "                 marginals: [ 0.000e+00  0.000e+00]\n",
              "          eqlin:  residual: []\n",
              "                 marginals: []\n",
              "        ineqlin:  residual: [ 0.000e+00  1.400e+01  0.000e+00]\n",
              "                 marginals: [-2.333e+00 -0.000e+00 -6.667e-01]\n",
              " mip_node_count: 0\n",
              " mip_dual_bound: 0.0\n",
              "        mip_gap: 0.0"
            ]
          },
          "metadata": {},
          "execution_count": 13
        }
      ]
    },
    {
      "cell_type": "markdown",
      "source": [
        "The linear programming problem has been successfully solved. Here's the interpretation of the results:\n",
        "\n",
        "- The solution was found successfully (success: True).\n",
        "- The optimal values for the variables are `x = 6` and `y = 4`.\n",
        "- The maximum value of the objective function `3x + 4y` is `-34`. Remember, we minimized `-3x - 4y`, so the maximum of the original function is the negative of the minimized value.\n",
        "\n",
        "### Summary of the Solution\n",
        "\n",
        "- Optimal `x`: 6\n",
        "- Optimal `y`: 4\n",
        "- Maximum value of `3x + 4y`: 34\n",
        "\n",
        "This result implies that to maximize the objective function under the given constraints, `x` should be 6 and `y` should be 4, resulting in the maximum value of 34 for the objective function."
      ],
      "metadata": {
        "id": "OPNpSqAsE4za"
      }
    }
  ]
}