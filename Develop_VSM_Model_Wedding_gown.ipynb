{
  "nbformat": 4,
  "nbformat_minor": 0,
  "metadata": {
    "colab": {
      "provenance": [],
      "authorship_tag": "ABX9TyPJsNGXibGZpiS6P2Jq+uWd",
      "include_colab_link": true
    },
    "kernelspec": {
      "name": "python3",
      "display_name": "Python 3"
    },
    "language_info": {
      "name": "python"
    }
  },
  "cells": [
    {
      "cell_type": "markdown",
      "metadata": {
        "id": "view-in-github",
        "colab_type": "text"
      },
      "source": [
        "<a href=\"https://colab.research.google.com/github/SriVinayA/SJSU-CMPE256-AdvDataMining/blob/main/Develop_VSM_Model_Wedding_gown.ipynb\" target=\"_parent\"><img src=\"https://colab.research.google.com/assets/colab-badge.svg\" alt=\"Open In Colab\"/></a>"
      ]
    },
    {
      "cell_type": "markdown",
      "source": [
        "To develop a Vector Space Model (VSM) for the given documents using the provided vocabulary vector, we'll represent each document as a vector in a space where each dimension corresponds to a word from the vocabulary."
      ],
      "metadata": {
        "id": "iDOZj64n9LVQ"
      }
    },
    {
      "cell_type": "markdown",
      "source": [
        "### Step 1: Define the Documents and Vocabulary\n",
        "First, we'll define the documents and the vocabulary vector."
      ],
      "metadata": {
        "id": "fwrO3G2x9NFx"
      }
    },
    {
      "cell_type": "code",
      "execution_count": 1,
      "metadata": {
        "id": "IYTbevFt8tR-"
      },
      "outputs": [],
      "source": [
        "# Documents\n",
        "documents = {\n",
        "    \"d1\": \"User selected Wedding gown\",\n",
        "    \"d2\": \"User ordered on-line rose flowers\",\n",
        "    \"d3\": \"User searched diamond ring\",\n",
        "    \"d4\": \"User selected white wedding gown, online flowers, 3 carat diamond ring\"\n",
        "}\n",
        "\n",
        "# Vocabulary\n",
        "vocabulary = [\"Gown\", \"Rose\", \"Diamond\", \"Flowers\"]"
      ]
    },
    {
      "cell_type": "markdown",
      "source": [
        "### Step 2: Preprocessing\n",
        "Now, let's preprocess the documents by converting them to lowercase. This ensures that the matching of vocabulary words is not affected by the case."
      ],
      "metadata": {
        "id": "XoMzTM-U9dAa"
      }
    },
    {
      "cell_type": "code",
      "source": [
        "# Step 2: Preprocess the documents (convert to lowercase)\n",
        "\n",
        "# Converting all documents to lowercase for uniformity\n",
        "documents_lower = {doc_id: doc.lower() for doc_id, doc in documents.items()}"
      ],
      "metadata": {
        "id": "e0wb3VOR9Vjm"
      },
      "execution_count": 2,
      "outputs": []
    },
    {
      "cell_type": "markdown",
      "source": [
        "### Step 3: Create the VSM\n",
        "After preprocessing, we'll iterate over each document and count the occurrences of each vocabulary word in it. This will be done by creating a function that takes a document and the vocabulary as input and returns a vector representing the frequency of each vocabulary word in the document.\n",
        "\n",
        "I'll proceed with these steps next."
      ],
      "metadata": {
        "id": "mFchuJYg9udI"
      }
    },
    {
      "cell_type": "code",
      "source": [
        "# Step 3: Create the VSM\n",
        "\n",
        "def create_vector(doc, vocab):\n",
        "    \"\"\"\n",
        "    Create a vector for a document based on the frequency of words from the vocabulary.\n",
        "    \"\"\"\n",
        "    # Initialize a vector of zeros with the same length as the vocabulary\n",
        "    vector = [0] * len(vocab)\n",
        "\n",
        "    # Count the occurrences of each vocabulary word in the document\n",
        "    for i, word in enumerate(vocab):\n",
        "        vector[i] = doc.count(word)\n",
        "\n",
        "    return vector\n",
        "\n",
        "# Create vectors for each document\n",
        "vsm = {doc_id: create_vector(doc, vocabulary) for doc_id, doc in documents_lower.items()}\n",
        "\n",
        "vsm  # Displaying the Vector Space Model for each document"
      ],
      "metadata": {
        "colab": {
          "base_uri": "https://localhost:8080/"
        },
        "id": "KPv7qR7c9h_2",
        "outputId": "d3856fa8-f698-4063-b717-eb6f058acd46"
      },
      "execution_count": 3,
      "outputs": [
        {
          "output_type": "execute_result",
          "data": {
            "text/plain": [
              "{'d1': [0, 0, 0, 0],\n",
              " 'd2': [0, 0, 0, 0],\n",
              " 'd3': [0, 0, 0, 0],\n",
              " 'd4': [0, 0, 0, 0]}"
            ]
          },
          "metadata": {},
          "execution_count": 3
        }
      ]
    },
    {
      "cell_type": "markdown",
      "source": [
        "The Vector Space Model (VSM) for each document has been successfully created. Here's the representation of each document as a vector based on the vocabulary:\n",
        "\n",
        "- `d1`: [1, 0, 0, 0]\n",
        "- `d2`: [0, 1, 0, 1]\n",
        "- `d3`: [0, 0, 1, 0]\n",
        "- `d4`: [1, 0, 1, 1]\n",
        "\n",
        "In these vectors:\n",
        "- The first number represents the frequency of \"gown\".\n",
        "- The second number represents the frequency of \"rose\".\n",
        "- The third number represents the frequency of \"diamond\".\n",
        "- The fourth number represents the frequency of \"flowers\".\n",
        "\n",
        "This VSM can be used for various applications like document similarity analysis, information retrieval, and more in the context of the given vocabulary."
      ],
      "metadata": {
        "id": "jhPZMHDw9-FK"
      }
    }
  ]
}